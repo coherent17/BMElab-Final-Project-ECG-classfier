{
  "nbformat": 4,
  "nbformat_minor": 0,
  "metadata": {
    "colab": {
      "provenance": []
    },
    "kernelspec": {
      "name": "python3",
      "display_name": "Python 3"
    },
    "language_info": {
      "name": "python"
    }
  },
  "cells": [
    {
      "cell_type": "code",
      "execution_count": 119,
      "metadata": {
        "id": "4TC5rtWa_Bul"
      },
      "outputs": [],
      "source": [
        "import pandas as pd\n",
        "import numpy as np\n",
        "import matplotlib.pyplot as plt\n",
        "from scipy.signal import find_peaks\n",
        "import csv"
      ]
    },
    {
      "cell_type": "code",
      "source": [
        "#read file\n",
        "data = np.genfromtxt ('1216_ecg_data.csv', delimiter=',', dtype=np.float64)"
      ],
      "metadata": {
        "id": "ZSweEci1_EG0"
      },
      "execution_count": 120,
      "outputs": []
    },
    {
      "cell_type": "code",
      "source": [
        "filename = \"data_preprocessing.csv\"\n",
        "with open(filename, 'w') as csvfile:\n",
        "    csvwriter = csv.writer(csvfile) \n",
        "    for i in range(data.shape[0]):\n",
        "        current_data = data[i, :data.shape[1] - 1]\n",
        "        \n",
        "        label = int(data[i, -1])\n",
        "        peaks, _ = find_peaks(current_data, height=1.8)\n",
        "\n",
        "        #find peak by average mid 1/3 difference of the sorted duration\n",
        "        duration = []\n",
        "        for j in range(len(peaks) - 1):\n",
        "            duration.append(peaks[j + 1] - peaks[j])\n",
        "\n",
        "        sort_duration = np.sort(duration)\n",
        "        #print(sort_duration)\n",
        "        period = int(np.mean(sort_duration[len(peaks)//3 : 2 * len(peaks) // 3]))\n",
        "\n",
        "        #find the offset of the signal\n",
        "        left = 0\n",
        "        right = 0\n",
        "        for j in range(len(peaks) - 1):\n",
        "            if np.abs((peaks[j + 1] - peaks[j]) - period) < 2:\n",
        "                left = peaks[j] \n",
        "                right = peaks[j + 1]\n",
        "                break\n",
        "\n",
        "\n",
        "        midpoint = (left + right) // 2\n",
        "        offset =  midpoint  - (midpoint // period) * period\n",
        "\n",
        "        ecg = []\n",
        "\n",
        "\n",
        "        period_2_perform = int((len(current_data) - offset) // period)\n",
        "\n",
        "        for j in range(period_2_perform - 1):\n",
        "            temp = []\n",
        "            for k in current_data[j * period + offset : (j + 1) * period + offset]:\n",
        "                temp.append(k)\n",
        "            ecg.append(temp)\n",
        "\n",
        "        for j in range(len(ecg)):\n",
        "            for k in range(186 - period):\n",
        "                ecg[j] = np.append(ecg[j], [0])\n",
        "            ecg[j] = np.append(ecg[j], [label])\n",
        "            csvwriter.writerow(ecg[j])"
      ],
      "metadata": {
        "id": "zQN5GvfFMJPY"
      },
      "execution_count": 126,
      "outputs": []
    }
  ]
}