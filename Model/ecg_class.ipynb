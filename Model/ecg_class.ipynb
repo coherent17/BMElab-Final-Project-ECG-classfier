{
  "nbformat": 4,
  "nbformat_minor": 0,
  "metadata": {
    "colab": {
      "provenance": []
    },
    "kernelspec": {
      "name": "python3",
      "display_name": "Python 3"
    },
    "language_info": {
      "name": "python"
    }
  },
  "cells": [
    {
      "cell_type": "code",
      "execution_count": 28,
      "metadata": {
        "id": "gUUCX-SHViLA"
      },
      "outputs": [],
      "source": [
        "import numpy as np\n",
        "import pandas as pd\n",
        "import seaborn as sns\n",
        "import matplotlib.pyplot as plt\n",
        "from sklearn.metrics import classification_report\n",
        "from sklearn.model_selection import train_test_split\n",
        "from sklearn.metrics import f1_score\n",
        "from sklearn.metrics import confusion_matrix\n",
        "from keras.utils.np_utils import to_categorical\n",
        "from sklearn.utils import class_weight\n",
        "import warnings\n",
        "warnings.filterwarnings('ignore')"
      ]
    },
    {
      "cell_type": "code",
      "source": [
        "from google.colab import drive\n",
        "drive.mount('/content/drive')\n",
        "data_df=pd.read_csv('drive/MyDrive/preprocessingData.csv',header=None)\n",
        "print(data_df.shape)"
      ],
      "metadata": {
        "colab": {
          "base_uri": "https://localhost:8080/"
        },
        "id": "LHfPe9aTWBT5",
        "outputId": "151f643c-b5a1-4c2c-c7ab-64713efb134a"
      },
      "execution_count": 29,
      "outputs": [
        {
          "output_type": "stream",
          "name": "stdout",
          "text": [
            "Drive already mounted at /content/drive; to attempt to forcibly remount, call drive.mount(\"/content/drive\", force_remount=True).\n",
            "(4025, 188)\n"
          ]
        }
      ]
    },
    {
      "cell_type": "code",
      "source": [
        "equilibre = data_df[187].value_counts()\n",
        "print(equilibre)"
      ],
      "metadata": {
        "colab": {
          "base_uri": "https://localhost:8080/"
        },
        "id": "-dXt2nFNWJGW",
        "outputId": "ab328ebf-0c5c-4f07-aea2-4ff7de00f809"
      },
      "execution_count": 30,
      "outputs": [
        {
          "output_type": "stream",
          "name": "stdout",
          "text": [
            "2    1439\n",
            "0    1305\n",
            "1    1281\n",
            "Name: 187, dtype: int64\n"
          ]
        }
      ]
    },
    {
      "cell_type": "code",
      "source": [
        "plt.figure(figsize=(20,10))\n",
        "my_circle=plt.Circle( (0,0), 0.7, color='white')\n",
        "plt.pie(equilibre, labels=['Maria','Coherent','Daniel'], colors=['red','green','blue'],autopct='%1.1f%%')\n",
        "p=plt.gcf()\n",
        "p.gca().add_artist(my_circle)\n",
        "plt.show()"
      ],
      "metadata": {
        "colab": {
          "base_uri": "https://localhost:8080/",
          "height": 575
        },
        "id": "JHLG8NjUWPJ2",
        "outputId": "4b61a4a8-49c0-40d7-c17c-0301bcde9a46"
      },
      "execution_count": 31,
      "outputs": [
        {
          "output_type": "display_data",
          "data": {
            "text/plain": [
              "<Figure size 1440x720 with 1 Axes>"
            ],
            "image/png": "[encoded data removed]"
          },
          "metadata": {}
        }
      ]
    },
    {
      "cell_type": "code",
      "source": [
        "from sklearn.model_selection import train_test_split\n",
        "X_train, X_test, y_train, y_test = train_test_split(data_df.iloc[:, 0:186],data_df.iloc[:, 187], random_state = 50, test_size = 0.3)\n",
        "\n",
        "#one hot encoding\n",
        "y_train=to_categorical(y_train)\n",
        "y_test=to_categorical(y_test)\n",
        "\n",
        "X_train=X_train.iloc[:,:186].values\n",
        "X_test=X_test.iloc[:,:186].values\n",
        "X_train = X_train.reshape(len(X_train), X_train.shape[1],1)\n",
        "X_test = X_test.reshape(len(X_test), X_test.shape[1],1)\n",
        "print(X_train.shape)"
      ],
      "metadata": {
        "colab": {
          "base_uri": "https://localhost:8080/"
        },
        "id": "Vli5pPdIZA4z",
        "outputId": "338999ff-661c-4214-a560-3aa942e8885d"
      },
      "execution_count": 32,
      "outputs": [
        {
          "output_type": "stream",
          "name": "stdout",
          "text": [
            "(2817, 186, 1)\n"
          ]
        }
      ]
    },
    {
      "cell_type": "code",
      "source": [
        "def network(X_train,y_train,X_test,y_test):\n",
        "    \n",
        "\n",
        "    im_shape=(X_train.shape[1],1)\n",
        "    inputs_cnn=Input(shape=(im_shape), name='inputs_cnn')\n",
        "    conv1_1=Convolution1D(64, (6), activation='relu', input_shape=im_shape)(inputs_cnn)\n",
        "    conv1_1=BatchNormalization()(conv1_1)\n",
        "    pool1=MaxPool1D(pool_size=(3), strides=(2), padding=\"same\")(conv1_1)\n",
        "    conv2_1=Convolution1D(64, (3), activation='relu', input_shape=im_shape)(pool1)\n",
        "    conv2_1=BatchNormalization()(conv2_1)\n",
        "    pool2=MaxPool1D(pool_size=(2), strides=(2), padding=\"same\")(conv2_1)\n",
        "    conv3_1=Convolution1D(64, (3), activation='relu', input_shape=im_shape)(pool2)\n",
        "    conv3_1=BatchNormalization()(conv3_1)\n",
        "    pool3=MaxPool1D(pool_size=(2), strides=(2), padding=\"same\")(conv3_1)\n",
        "    flatten=Flatten()(pool3)\n",
        "    dense_end1 = Dense(64, activation='relu')(flatten)\n",
        "    dense_end2 = Dense(32, activation='relu')(dense_end1)\n",
        "    main_output = Dense(3, activation='softmax', name='main_output')(dense_end2)\n",
        "    \n",
        "    \n",
        "    model = Model(inputs= inputs_cnn, outputs=main_output)\n",
        "    model.compile(optimizer='adam', loss='categorical_crossentropy',metrics = ['accuracy'])\n",
        "    \n",
        "    \n",
        "    callbacks = [EarlyStopping(monitor='val_loss', patience=8),\n",
        "             ModelCheckpoint(filepath='best_model.h5', monitor='val_loss', save_best_only=True)]\n",
        "\n",
        "    history=model.fit(X_train, y_train,epochs=20,callbacks=callbacks, batch_size=32,validation_data=(X_test,y_test))\n",
        "    model.load_weights('best_model.h5')\n",
        "    return(model,history)"
      ],
      "metadata": {
        "id": "M4Ox2vXkZ1NQ"
      },
      "execution_count": 33,
      "outputs": []
    },
    {
      "cell_type": "code",
      "source": [
        "def evaluate_model(history,X_test,y_test,model):\n",
        "    scores = model.evaluate((X_test),y_test, verbose=0)\n",
        "    print(\"Accuracy: %.2f%%\" % (scores[1]*100))\n",
        "    \n",
        "    print(history)\n",
        "    fig1, ax_acc = plt.subplots()\n",
        "    plt.plot(history.history['accuracy'])\n",
        "    plt.plot(history.history['val_accuracy'])\n",
        "    plt.xlabel('Epoch')\n",
        "    plt.ylabel('Accuracy')\n",
        "    plt.title('Model - Accuracy')\n",
        "    plt.legend(['Training', 'Validation'], loc='lower right')\n",
        "    plt.show()\n",
        "    \n",
        "    fig2, ax_loss = plt.subplots()\n",
        "    plt.xlabel('Epoch')\n",
        "    plt.ylabel('Loss')\n",
        "    plt.title('Model- Loss')\n",
        "    plt.legend(['Training', 'Validation'], loc='upper right')\n",
        "    plt.plot(history.history['loss'])\n",
        "    plt.plot(history.history['val_loss'])\n",
        "    plt.show()\n",
        "    target_names=['0','1','2']\n",
        "    \n",
        "    y_true=[]\n",
        "    for element in y_test:\n",
        "        y_true.append(np.argmax(element))\n",
        "    prediction_proba=model.predict(X_test)\n",
        "    prediction=np.argmax(prediction_proba,axis=1)\n",
        "    cnf_matrix = confusion_matrix(y_true, prediction)"
      ],
      "metadata": {
        "id": "6domMk64chH8"
      },
      "execution_count": 34,
      "outputs": []
    },
    {
      "cell_type": "code",
      "source": [
        "from keras.layers import Dense, Convolution1D, MaxPool1D, Flatten, Dropout\n",
        "from keras.layers import Input\n",
        "from keras.models import Model\n",
        "from tensorflow.keras.layers import BatchNormalization\n",
        "import keras\n",
        "from keras.callbacks import EarlyStopping, ModelCheckpoint\n",
        "\n",
        "model,history=network(X_train,y_train,X_test,y_test)"
      ],
      "metadata": {
        "colab": {
          "base_uri": "https://localhost:8080/"
        },
        "id": "3yOaZr-ecqR4",
        "outputId": "d75781b3-cf6c-4a67-e7aa-54db52c0e41d"
      },
      "execution_count": 35,
      "outputs": [
        {
          "output_type": "stream",
          "name": "stdout",
          "text": [
            "Epoch 1/20\n",
            "89/89 [==============================] - 5s 40ms/step - loss: 0.2474 - accuracy: 0.9162 - val_loss: 1.2372 - val_accuracy: 0.3402\n",
            "Epoch 2/20\n",
            "89/89 [==============================] - 3s 37ms/step - loss: 0.0691 - accuracy: 0.9773 - val_loss: 1.8398 - val_accuracy: 0.3402\n",
            "Epoch 3/20\n",
            "89/89 [==============================] - 3s 38ms/step - loss: 0.0223 - accuracy: 0.9947 - val_loss: 2.4025 - val_accuracy: 0.3402\n",
            "Epoch 4/20\n",
            "89/89 [==============================] - 3s 38ms/step - loss: 0.0221 - accuracy: 0.9933 - val_loss: 3.0982 - val_accuracy: 0.3402\n",
            "Epoch 5/20\n",
            "89/89 [==============================] - 3s 37ms/step - loss: 0.0506 - accuracy: 0.9844 - val_loss: 4.4602 - val_accuracy: 0.3402\n",
            "Epoch 6/20\n",
            "89/89 [==============================] - 3s 39ms/step - loss: 0.0460 - accuracy: 0.9879 - val_loss: 4.1261 - val_accuracy: 0.3402\n",
            "Epoch 7/20\n",
            "89/89 [==============================] - 3s 39ms/step - loss: 0.0166 - accuracy: 0.9965 - val_loss: 0.2967 - val_accuracy: 0.8866\n",
            "Epoch 8/20\n",
            "89/89 [==============================] - 3s 37ms/step - loss: 0.0269 - accuracy: 0.9901 - val_loss: 0.7044 - val_accuracy: 0.7301\n",
            "Epoch 9/20\n",
            "89/89 [==============================] - 3s 38ms/step - loss: 0.0186 - accuracy: 0.9940 - val_loss: 0.3811 - val_accuracy: 0.8601\n",
            "Epoch 10/20\n",
            "89/89 [==============================] - 3s 38ms/step - loss: 0.0349 - accuracy: 0.9886 - val_loss: 0.0574 - val_accuracy: 0.9843\n",
            "Epoch 11/20\n",
            "89/89 [==============================] - 3s 38ms/step - loss: 0.0340 - accuracy: 0.9883 - val_loss: 0.1901 - val_accuracy: 0.9429\n",
            "Epoch 12/20\n",
            "89/89 [==============================] - 3s 38ms/step - loss: 0.0266 - accuracy: 0.9915 - val_loss: 0.0254 - val_accuracy: 0.9942\n",
            "Epoch 13/20\n",
            "89/89 [==============================] - 3s 39ms/step - loss: 0.0128 - accuracy: 0.9965 - val_loss: 0.0363 - val_accuracy: 0.9884\n",
            "Epoch 14/20\n",
            "89/89 [==============================] - 3s 39ms/step - loss: 0.0423 - accuracy: 0.9869 - val_loss: 0.0960 - val_accuracy: 0.9760\n",
            "Epoch 15/20\n",
            "89/89 [==============================] - 4s 47ms/step - loss: 0.0239 - accuracy: 0.9918 - val_loss: 0.6890 - val_accuracy: 0.7997\n",
            "Epoch 16/20\n",
            "89/89 [==============================] - 4s 46ms/step - loss: 0.2589 - accuracy: 0.9290 - val_loss: 2.6104 - val_accuracy: 0.3924\n",
            "Epoch 17/20\n",
            "89/89 [==============================] - 4s 39ms/step - loss: 0.0460 - accuracy: 0.9890 - val_loss: 0.0997 - val_accuracy: 0.9603\n",
            "Epoch 18/20\n",
            "89/89 [==============================] - 5s 52ms/step - loss: 0.1696 - accuracy: 0.9560 - val_loss: 0.6043 - val_accuracy: 0.7003\n",
            "Epoch 19/20\n",
            "89/89 [==============================] - 3s 38ms/step - loss: 0.1001 - accuracy: 0.9695 - val_loss: 0.1407 - val_accuracy: 0.9545\n",
            "Epoch 20/20\n",
            "89/89 [==============================] - 3s 39ms/step - loss: 0.0416 - accuracy: 0.9854 - val_loss: 0.2372 - val_accuracy: 0.9131\n"
          ]
        }
      ]
    },
    {
      "cell_type": "code",
      "source": [
        "evaluate_model(history,X_test,y_test,model)\n",
        "y_pred=model.predict(X_test)"
      ],
      "metadata": {
        "colab": {
          "base_uri": "https://localhost:8080/",
          "height": 642
        },
        "id": "wIXTv_iccsBv",
        "outputId": "4629f784-a358-4ced-88b6-9e7caf75c870"
      },
      "execution_count": 36,
      "outputs": [
        {
          "output_type": "stream",
          "name": "stdout",
          "text": [
            "Accuracy: 99.42%\n",
            "<keras.callbacks.History object at 0x7f9c474faf10>\n"
          ]
        },
        {
          "output_type": "display_data",
          "data": {
            "text/plain": [
              "<Figure size 432x288 with 1 Axes>"
            ],
            "image/png": "[encoded data removed]"
          },
          "metadata": {
            "needs_background": "light"
          }
        },
        {
          "output_type": "display_data",
          "data": {
            "text/plain": [
              "<Figure size 432x288 with 1 Axes>"
            ],
            "image/png": "[encoded data removed]"
          },
          "metadata": {
            "needs_background": "light"
          }
        },
        {
          "output_type": "stream",
          "name": "stdout",
          "text": [
            "38/38 [==============================] - 0s 9ms/step\n",
            "38/38 [==============================] - 0s 10ms/step\n"
          ]
        }
      ]
    },
    {
      "cell_type": "code",
      "source": [
        "import itertools\n",
        "def plot_confusion_matrix(cm, classes,\n",
        "                          normalize=False,\n",
        "                          title='Confusion matrix',\n",
        "                          cmap=plt.cm.Blues):\n",
        "    \"\"\"\n",
        "    This function prints and plots the confusion matrix.\n",
        "    Normalization can be applied by setting `normalize=True`.\n",
        "    \"\"\"\n",
        "    if normalize:\n",
        "        cm = cm.astype('float') / cm.sum(axis=1)[:, np.newaxis]\n",
        "        print(\"Normalized confusion matrix\")\n",
        "    else:\n",
        "        print('Confusion matrix, without normalization')\n",
        "\n",
        "    plt.imshow(cm, interpolation='nearest', cmap=cmap)\n",
        "    plt.title(title)\n",
        "    plt.colorbar()\n",
        "    tick_marks = np.arange(len(classes))\n",
        "    plt.xticks(tick_marks, classes, rotation=45)\n",
        "    plt.yticks(tick_marks, classes)\n",
        "\n",
        "    fmt = '.2f' if normalize else 'd'\n",
        "    thresh = cm.max() / 2.\n",
        "    for i, j in itertools.product(range(cm.shape[0]), range(cm.shape[1])):\n",
        "        plt.text(j, i, format(cm[i, j], fmt),\n",
        "                 horizontalalignment=\"center\",\n",
        "                 color=\"white\" if cm[i, j] > thresh else \"black\")\n",
        "\n",
        "    plt.tight_layout()\n",
        "    plt.ylabel('True label')\n",
        "    plt.xlabel('Predicted label')\n",
        "\n",
        "# Compute confusion matrix\n",
        "cnf_matrix = confusion_matrix(y_test.argmax(axis=1), y_pred.argmax(axis=1))\n",
        "np.set_printoptions(precision=2)\n",
        "\n",
        "# Plot non-normalized confusion matrix\n",
        "plt.figure(figsize=(10, 10))\n",
        "plot_confusion_matrix(cnf_matrix, classes=['Maria','Coherent','Daniel'],normalize=True,\n",
        "                      title='Confusion matrix, with normalization')\n",
        "plt.show()"
      ],
      "metadata": {
        "colab": {
          "base_uri": "https://localhost:8080/",
          "height": 746
        },
        "id": "m5zmmRXGdl3E",
        "outputId": "e3b6cf74-6885-4bd6-ef3f-e72f0b014e82"
      },
      "execution_count": 37,
      "outputs": [
        {
          "output_type": "stream",
          "name": "stdout",
          "text": [
            "Normalized confusion matrix\n"
          ]
        },
        {
          "output_type": "display_data",
          "data": {
            "text/plain": [
              "<Figure size 720x720 with 2 Axes>"
            ],
            "image/png": "[encoded data removed]"
          },
          "metadata": {
            "needs_background": "light"
          }
        }
      ]
    },
    {
      "cell_type": "code",
      "source": [
        "import pandas as pd\n",
        "import numpy as np\n",
        "import matplotlib.pyplot as plt\n",
        "from scipy.signal import find_peaks\n",
        "import csv\n",
        "#read file\n",
        "demo_data = np.genfromtxt ('drive/MyDrive/ecg_signal.csv', delimiter=',', dtype=np.float64)\n",
        "demo_data = demo_data.reshape(1, len(demo_data))"
      ],
      "metadata": {
        "id": "mG6roJARd1B_"
      },
      "execution_count": 65,
      "outputs": []
    },
    {
      "cell_type": "code",
      "source": [
        "filename = \"demo.csv\"\n",
        "with open(filename, 'w') as csvfile:\n",
        "    csvwriter = csv.writer(csvfile) \n",
        "    for i in range(demo_data.shape[0]):\n",
        "        current_data = demo_data[i, :demo_data.shape[1] - 1]\n",
        "        \n",
        "        label = int(demo_data[i, -1])\n",
        "        peaks, _ = find_peaks(current_data, height=1.8)\n",
        "\n",
        "        #find peak by average mid 1/3 difference of the sorted duration\n",
        "        duration = []\n",
        "        for j in range(len(peaks) - 1):\n",
        "            duration.append(peaks[j + 1] - peaks[j])\n",
        "\n",
        "        sort_duration = np.sort(duration)\n",
        "        #print(sort_duration)\n",
        "        period = int(np.mean(sort_duration[len(peaks)//3 : 2 * len(peaks) // 3]))\n",
        "\n",
        "        #find the offset of the signal\n",
        "        #find the offset of the signal\n",
        "\n",
        "        good_peaks = []\n",
        "        threshold = 10\n",
        "        for j in range(len(peaks) - 2):\n",
        "            if np.abs((peaks[j + 1] - peaks[j]) - period) < threshold and np.abs((peaks[j + 2] - peaks[j + 1]) - period) < threshold:\n",
        "                good_peaks.append(peaks[j + 1])\n",
        "\n",
        "        ecg = []\n",
        "\n",
        "        for j in range(len(good_peaks)):\n",
        "            if good_peaks[j] - period//2 < 0 or good_peaks[j] + period //2 >= demo_data.shape[1]:\n",
        "                continue\n",
        "\n",
        "            temp = []\n",
        "            for k in current_data[good_peaks[j] - period//2: good_peaks[j] + period//2]:\n",
        "                temp.append(k)\n",
        "            ecg.append(temp)\n",
        "\n",
        "        for j in range(len(ecg)):\n",
        "            len_ecgj = len(ecg[j])\n",
        "            for k in range(187 - len_ecgj):\n",
        "                ecg[j] = np.append(ecg[j], [0])\n",
        "            ecg[j] = np.append(ecg[j], [label])\n",
        "            csvwriter.writerow(ecg[j])"
      ],
      "metadata": {
        "id": "50ciCyUemBEp"
      },
      "execution_count": 66,
      "outputs": []
    },
    {
      "cell_type": "code",
      "source": [
        "demo=pd.read_csv('demo.csv',header=None)\n",
        "\n",
        "for i in range(len(demo)):\n",
        "  data_test = demo.iloc[i,:186].values\n",
        "  data_test = data_test.reshape(1, 186, 1)\n",
        "  ret = model.predict(data_test)\n",
        "  print(np.argmax(ret))"
      ],
      "metadata": {
        "id": "H08ziKDnhBc2",
        "colab": {
          "base_uri": "https://localhost:8080/"
        },
        "outputId": "86eabf5f-d4ac-42f5-ae56-c9b5ba28b6a6"
      },
      "execution_count": 67,
      "outputs": [
        {
          "output_type": "stream",
          "name": "stdout",
          "text": [
            "1/1 [==============================] - 0s 19ms/step\n",
            "0\n",
            "1/1 [==============================] - 0s 21ms/step\n",
            "0\n",
            "1/1 [==============================] - 0s 20ms/step\n",
            "0\n",
            "1/1 [==============================] - 0s 22ms/step\n",
            "0\n",
            "1/1 [==============================] - 0s 21ms/step\n",
            "0\n",
            "1/1 [==============================] - 0s 20ms/step\n",
            "0\n",
            "1/1 [==============================] - 0s 18ms/step\n",
            "0\n",
            "1/1 [==============================] - 0s 18ms/step\n",
            "0\n",
            "1/1 [==============================] - 0s 19ms/step\n",
            "0\n",
            "1/1 [==============================] - 0s 19ms/step\n",
            "0\n",
            "1/1 [==============================] - 0s 18ms/step\n",
            "0\n",
            "1/1 [==============================] - 0s 17ms/step\n",
            "0\n",
            "1/1 [==============================] - 0s 17ms/step\n",
            "0\n",
            "1/1 [==============================] - 0s 25ms/step\n",
            "0\n",
            "1/1 [==============================] - 0s 19ms/step\n",
            "0\n"
          ]
        }
      ]
    },
    {
      "cell_type": "code",
      "source": [],
      "metadata": {
        "id": "QNcvfJTgndeh"
      },
      "execution_count": null,
      "outputs": []
    }
  ]
}